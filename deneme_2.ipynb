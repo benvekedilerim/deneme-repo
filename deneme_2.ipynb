{
  "nbformat": 4,
  "nbformat_minor": 0,
  "metadata": {
    "colab": {
      "name": "deneme-2.ipynb",
      "provenance": [],
      "authorship_tag": "ABX9TyP3/s09YrCPMj3giZQ43xu+",
      "include_colab_link": true
    },
    "kernelspec": {
      "name": "python3",
      "display_name": "Python 3"
    },
    "language_info": {
      "name": "python"
    }
  },
  "cells": [
    {
      "cell_type": "markdown",
      "metadata": {
        "id": "view-in-github",
        "colab_type": "text"
      },
      "source": [
        "<a href=\"https://colab.research.google.com/github/benvekedilerim/deneme-repo/blob/main/deneme_2.ipynb\" target=\"_parent\"><img src=\"https://colab.research.google.com/assets/colab-badge.svg\" alt=\"Open In Colab\"/></a>"
      ]
    },
    {
      "cell_type": "code",
      "execution_count": 2,
      "metadata": {
        "colab": {
          "base_uri": "https://localhost:8080/"
        },
        "id": "k7yw2jNJG4-D",
        "outputId": "6656b464-a80f-4900-ecfc-4145a36dc9b4"
      },
      "outputs": [
        {
          "output_type": "execute_result",
          "data": {
            "text/plain": [
              "5"
            ]
          },
          "metadata": {},
          "execution_count": 2
        }
      ],
      "source": [
        "#bu bir fonksiyondur\n",
        "def topla(x,y):\n",
        "  return x + y\n",
        "\n",
        "topla(2,3)"
      ]
    }
  ]
}