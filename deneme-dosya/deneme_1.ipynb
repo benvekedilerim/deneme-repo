{
  "nbformat": 4,
  "nbformat_minor": 0,
  "metadata": {
    "colab": {
      "name": "deneme-1.ipynb",
      "provenance": [],
      "authorship_tag": "ABX9TyMJsq0Uagn/6MqoNbLHozZd",
      "include_colab_link": true
    },
    "kernelspec": {
      "name": "python3",
      "display_name": "Python 3"
    },
    "language_info": {
      "name": "python"
    }
  },
  "cells": [
    {
      "cell_type": "markdown",
      "metadata": {
        "id": "view-in-github",
        "colab_type": "text"
      },
      "source": [
        "<a href=\"https://colab.research.google.com/github/benvekedilerim/deneme-repo/blob/main/deneme-dosya/deneme_1.ipynb\" target=\"_parent\"><img src=\"https://colab.research.google.com/assets/colab-badge.svg\" alt=\"Open In Colab\"/></a>"
      ]
    },
    {
      "cell_type": "code",
      "execution_count": 3,
      "metadata": {
        "colab": {
          "base_uri": "https://localhost:8080/"
        },
        "id": "k7yw2jNJG4-D",
        "outputId": "9b1c06bc-201e-4166-a58e-2950fbc18259"
      },
      "outputs": [
        {
          "output_type": "stream",
          "name": "stdout",
          "text": [
            "hello world\n"
          ]
        }
      ],
      "source": [
        "#bu bir yorum satırıdır\n",
        "print(\"hello world\")"
      ]
    }
  ]
}